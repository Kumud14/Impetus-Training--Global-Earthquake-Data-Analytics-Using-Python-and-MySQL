{
 "cells": [
  {
   "cell_type": "code",
   "execution_count": 2,
   "id": "eba44388-35f0-4871-b5ed-ef65e92688be",
   "metadata": {},
   "outputs": [],
   "source": [
    "import pandas as pd\n"
   ]
  },
  {
   "cell_type": "code",
   "execution_count": 10,
   "id": "2e98d0dd-e996-4200-ad82-a0220a6a6045",
   "metadata": {},
   "outputs": [],
   "source": [
    "\n",
    "\n",
    "df = pd.read_csv(r\"C:\\Users\\kumud\\OneDrive\\Desktop\\capstone project\\database.csv\")\n",
    "\n",
    "\n",
    "\n",
    "\n"
   ]
  },
  {
   "cell_type": "code",
   "execution_count": 11,
   "id": "db84c287-472d-4898-ae6a-a83d65e1f902",
   "metadata": {},
   "outputs": [
    {
     "name": "stdout",
     "output_type": "stream",
     "text": [
      "         Date      Time  Latitude  Longitude        Type  Depth  Depth Error  \\\n",
      "0  01/02/1965  13:44:18    19.246    145.616  Earthquake  131.6          NaN   \n",
      "1  01/04/1965  11:29:49     1.863    127.352  Earthquake   80.0          NaN   \n",
      "2  01/05/1965  18:05:58   -20.579   -173.972  Earthquake   20.0          NaN   \n",
      "3  01/08/1965  18:49:43   -59.076    -23.557  Earthquake   15.0          NaN   \n",
      "4  01/09/1965  13:32:50    11.938    126.427  Earthquake   15.0          NaN   \n",
      "\n",
      "   Depth Seismic Stations  Magnitude Magnitude Type  ...  \\\n",
      "0                     NaN        6.0             MW  ...   \n",
      "1                     NaN        5.8             MW  ...   \n",
      "2                     NaN        6.2             MW  ...   \n",
      "3                     NaN        5.8             MW  ...   \n",
      "4                     NaN        5.8             MW  ...   \n",
      "\n",
      "   Magnitude Seismic Stations  Azimuthal Gap  Horizontal Distance  \\\n",
      "0                         NaN            NaN                  NaN   \n",
      "1                         NaN            NaN                  NaN   \n",
      "2                         NaN            NaN                  NaN   \n",
      "3                         NaN            NaN                  NaN   \n",
      "4                         NaN            NaN                  NaN   \n",
      "\n",
      "   Horizontal Error  Root Mean Square            ID  Source Location Source  \\\n",
      "0               NaN               NaN  ISCGEM860706  ISCGEM          ISCGEM   \n",
      "1               NaN               NaN  ISCGEM860737  ISCGEM          ISCGEM   \n",
      "2               NaN               NaN  ISCGEM860762  ISCGEM          ISCGEM   \n",
      "3               NaN               NaN  ISCGEM860856  ISCGEM          ISCGEM   \n",
      "4               NaN               NaN  ISCGEM860890  ISCGEM          ISCGEM   \n",
      "\n",
      "  Magnitude Source     Status  \n",
      "0           ISCGEM  Automatic  \n",
      "1           ISCGEM  Automatic  \n",
      "2           ISCGEM  Automatic  \n",
      "3           ISCGEM  Automatic  \n",
      "4           ISCGEM  Automatic  \n",
      "\n",
      "[5 rows x 21 columns]\n"
     ]
    }
   ],
   "source": [
    "print(df.head())"
   ]
  },
  {
   "cell_type": "code",
   "execution_count": 12,
   "id": "d409b8d3-03e8-499b-8e38-93f318f85024",
   "metadata": {},
   "outputs": [
    {
     "name": "stdout",
     "output_type": "stream",
     "text": [
      "<class 'pandas.core.frame.DataFrame'>\n",
      "RangeIndex: 23412 entries, 0 to 23411\n",
      "Data columns (total 21 columns):\n",
      " #   Column                      Non-Null Count  Dtype  \n",
      "---  ------                      --------------  -----  \n",
      " 0   Date                        23412 non-null  object \n",
      " 1   Time                        23412 non-null  object \n",
      " 2   Latitude                    23412 non-null  float64\n",
      " 3   Longitude                   23412 non-null  float64\n",
      " 4   Type                        23412 non-null  object \n",
      " 5   Depth                       23412 non-null  float64\n",
      " 6   Depth Error                 4461 non-null   float64\n",
      " 7   Depth Seismic Stations      7097 non-null   float64\n",
      " 8   Magnitude                   23412 non-null  float64\n",
      " 9   Magnitude Type              23409 non-null  object \n",
      " 10  Magnitude Error             327 non-null    float64\n",
      " 11  Magnitude Seismic Stations  2564 non-null   float64\n",
      " 12  Azimuthal Gap               7299 non-null   float64\n",
      " 13  Horizontal Distance         1604 non-null   float64\n",
      " 14  Horizontal Error            1156 non-null   float64\n",
      " 15  Root Mean Square            17352 non-null  float64\n",
      " 16  ID                          23412 non-null  object \n",
      " 17  Source                      23412 non-null  object \n",
      " 18  Location Source             23412 non-null  object \n",
      " 19  Magnitude Source            23412 non-null  object \n",
      " 20  Status                      23412 non-null  object \n",
      "dtypes: float64(12), object(9)\n",
      "memory usage: 3.8+ MB\n",
      "None\n"
     ]
    }
   ],
   "source": [
    "print(df.info())"
   ]
  },
  {
   "cell_type": "code",
   "execution_count": 15,
   "id": "4f98684c-f2fe-46c5-8261-11f413a449b0",
   "metadata": {},
   "outputs": [
    {
     "name": "stdout",
     "output_type": "stream",
     "text": [
      "Index(['Date', 'Time', 'Latitude', 'Longitude', 'Type', 'Depth', 'Depth Error',\n",
      "       'Depth Seismic Stations', 'Magnitude', 'Magnitude Type',\n",
      "       'Magnitude Error', 'Magnitude Seismic Stations', 'Azimuthal Gap',\n",
      "       'Horizontal Distance', 'Horizontal Error', 'Root Mean Square', 'ID',\n",
      "       'Source', 'Location Source', 'Magnitude Source', 'Status'],\n",
      "      dtype='object')\n"
     ]
    }
   ],
   "source": [
    "print(df.columns)\n"
   ]
  },
  {
   "cell_type": "code",
   "execution_count": 17,
   "id": "a41f9112-cbb0-4c40-b872-f7ccb7128ec2",
   "metadata": {},
   "outputs": [
    {
     "name": "stdout",
     "output_type": "stream",
     "text": [
      "         Date      Time  Latitude  Longitude        Type  Depth  Depth Error  \\\n",
      "0  01/02/1965  13:44:18    19.246    145.616  Earthquake  131.6          NaN   \n",
      "1  01/04/1965  11:29:49     1.863    127.352  Earthquake   80.0          NaN   \n",
      "2  01/05/1965  18:05:58   -20.579   -173.972  Earthquake   20.0          NaN   \n",
      "3  01/08/1965  18:49:43   -59.076    -23.557  Earthquake   15.0          NaN   \n",
      "4  01/09/1965  13:32:50    11.938    126.427  Earthquake   15.0          NaN   \n",
      "\n",
      "   Depth Seismic Stations  Magnitude Magnitude Type  ...  \\\n",
      "0                     NaN        6.0             MW  ...   \n",
      "1                     NaN        5.8             MW  ...   \n",
      "2                     NaN        6.2             MW  ...   \n",
      "3                     NaN        5.8             MW  ...   \n",
      "4                     NaN        5.8             MW  ...   \n",
      "\n",
      "   Magnitude Seismic Stations  Azimuthal Gap  Horizontal Distance  \\\n",
      "0                         NaN            NaN                  NaN   \n",
      "1                         NaN            NaN                  NaN   \n",
      "2                         NaN            NaN                  NaN   \n",
      "3                         NaN            NaN                  NaN   \n",
      "4                         NaN            NaN                  NaN   \n",
      "\n",
      "   Horizontal Error  Root Mean Square            ID  Source Location Source  \\\n",
      "0               NaN               NaN  ISCGEM860706  ISCGEM          ISCGEM   \n",
      "1               NaN               NaN  ISCGEM860737  ISCGEM          ISCGEM   \n",
      "2               NaN               NaN  ISCGEM860762  ISCGEM          ISCGEM   \n",
      "3               NaN               NaN  ISCGEM860856  ISCGEM          ISCGEM   \n",
      "4               NaN               NaN  ISCGEM860890  ISCGEM          ISCGEM   \n",
      "\n",
      "  Magnitude Source     Status  \n",
      "0           ISCGEM  Automatic  \n",
      "1           ISCGEM  Automatic  \n",
      "2           ISCGEM  Automatic  \n",
      "3           ISCGEM  Automatic  \n",
      "4           ISCGEM  Automatic  \n",
      "\n",
      "[5 rows x 21 columns]\n"
     ]
    }
   ],
   "source": [
    "df = df[['Date', 'Time', 'Latitude', 'Longitude', 'Type', 'Depth',\n",
    "         'Depth Error', 'Depth Seismic Stations', 'Magnitude', 'Magnitude Type',\n",
    "         'Magnitude Error', 'Magnitude Seismic Stations', 'Azimuthal Gap',\n",
    "         'Horizontal Distance', 'Horizontal Error', 'Root Mean Square', 'ID',\n",
    "         'Source', 'Location Source', 'Magnitude Source', 'Status']]\n",
    "\n",
    "print(df.head())"
   ]
  },
  {
   "cell_type": "code",
   "execution_count": 18,
   "id": "9b2476c5-d1b2-4dea-969e-84da7348cb89",
   "metadata": {},
   "outputs": [],
   "source": [
    "df = df.dropna()\n"
   ]
  },
  {
   "cell_type": "code",
   "execution_count": 20,
   "id": "8c99b3d9-8733-48d7-a702-e35e2a21a4c2",
   "metadata": {},
   "outputs": [
    {
     "name": "stdout",
     "output_type": "stream",
     "text": [
      " Mean Depth: 9.107857142857144\n",
      " Max Magnitude: 6.2\n",
      "Min Magnitude: 5.52\n"
     ]
    }
   ],
   "source": [
    "print(\" Mean Depth:\", df['Depth'].mean())\n",
    "print(\" Max Magnitude:\", df['Magnitude'].max())\n",
    "print(\"Min Magnitude:\", df['Magnitude'].min())\n"
   ]
  },
  {
   "cell_type": "code",
   "execution_count": 21,
   "id": "7c95a8bf-0db8-4be5-a206-50b316da39ea",
   "metadata": {},
   "outputs": [
    {
     "name": "stdout",
     "output_type": "stream",
     "text": [
      "Year\n",
      "1966    1\n",
      "1968    2\n",
      "1969    1\n",
      "1970    1\n",
      "1973    1\n",
      "1974    1\n",
      "1975    2\n",
      "1976    1\n",
      "1980    2\n",
      "2008    1\n",
      "2014    1\n",
      "Name: ID, dtype: int64\n"
     ]
    }
   ],
   "source": [
    "df['Date'] = pd.to_datetime(df['Date'], errors='coerce')  # convert to date\n",
    "df['Year'] = df['Date'].dt.year\n",
    "\n",
    "# Group by year\n",
    "yearly_quakes = df.groupby('Year')['ID'].count()\n",
    "print(yearly_quakes)\n"
   ]
  },
  {
   "cell_type": "code",
   "execution_count": 23,
   "id": "3ad0f418-cde1-4912-a533-2155942222a5",
   "metadata": {},
   "outputs": [
    {
     "name": "stdout",
     "output_type": "stream",
     "text": [
      "🌍 Top 5 Deepest Earthquakes:\n",
      "            Date               Type  Depth\n",
      "22238 2014-05-28         Earthquake   90.0\n",
      "18876 2008-02-21         Earthquake    7.9\n",
      "3516  1975-06-26  Nuclear Explosion    6.0\n",
      "3307  1974-11-22         Earthquake    6.0\n",
      "5631  1980-09-07         Earthquake    6.0\n",
      "\n",
      "🌟 Top 5 Strongest Earthquakes:\n",
      "            Date               Type  Magnitude\n",
      "18876 2008-02-21         Earthquake       6.20\n",
      "3754  1976-01-03  Nuclear Explosion       5.84\n",
      "1380  1969-09-16  Nuclear Explosion       5.82\n",
      "22238 2014-05-28         Earthquake       5.80\n",
      "5523  1980-05-18         Earthquake       5.70\n"
     ]
    }
   ],
   "source": [
    "print(\" Top 5 Deepest Earthquakes:\")\n",
    "print(df.sort_values(by='Depth', ascending=False)[['Date', 'Type', 'Depth']].head(5))\n",
    "\n",
    "print(\"\\n Top 5 Strongest Earthquakes:\")\n",
    "print(df.sort_values(by='Magnitude', ascending=False)[['Date', 'Type', 'Magnitude']].head(5))\n"
   ]
  },
  {
   "cell_type": "code",
   "execution_count": 24,
   "id": "a9d3b001-068f-4be8-ad3c-6baa0f6a8e7f",
   "metadata": {},
   "outputs": [
    {
     "data": {
      "image/png": "[encoded data removed]",
      "text/plain": [
       "<Figure size 1200x600 with 1 Axes>"
      ]
     },
     "metadata": {},
     "output_type": "display_data"
    }
   ],
   "source": [
    "import matplotlib.pyplot as plt\n",
    "\n",
    "# Plot earthquakes per year\n",
    "yearly_quakes.plot(kind='bar', figsize=(12, 6), title=\"Earthquakes per Year\")\n",
    "plt.xlabel(\"Year\")\n",
    "plt.ylabel(\"Number of Earthquakes\")\n",
    "plt.tight_layout()\n",
    "plt.show()\n"
   ]
  },
  {
   "cell_type": "code",
   "execution_count": 25,
   "id": "269a708e-23d3-4090-918e-e19bd0714014",
   "metadata": {},
   "outputs": [],
   "source": [
    "df['Date'] = pd.to_datetime(df['Date'], errors='coerce')  # Converts string to real date\n",
    "df['Year'] = df['Date'].dt.year  # Adds a new column with just the year\n"
   ]
  },
  {
   "cell_type": "code",
   "execution_count": 26,
   "id": "3a27f33b-4bdf-497c-85c2-dba15341894b",
   "metadata": {},
   "outputs": [
    {
     "name": "stdout",
     "output_type": "stream",
     "text": [
      "Year\n",
      "1966    1\n",
      "1968    2\n",
      "1969    1\n",
      "1970    1\n",
      "1973    1\n",
      "1974    1\n",
      "1975    2\n",
      "1976    1\n",
      "1980    2\n",
      "2008    1\n",
      "2014    1\n",
      "Name: count, dtype: int64\n"
     ]
    }
   ],
   "source": [
    "yearly_quakes = df['Year'].value_counts().sort_index()  # Counts earthquakes per year\n",
    "print(yearly_quakes)\n"
   ]
  },
  {
   "cell_type": "code",
   "execution_count": 27,
   "id": "42fad82a-49a1-43dd-b80e-1c55ea4098a7",
   "metadata": {},
   "outputs": [
    {
     "data": {
      "image/png": "[encoded data removed]",
      "text/plain": [
       "<Figure size 1200x600 with 1 Axes>"
      ]
     },
     "metadata": {},
     "output_type": "display_data"
    }
   ],
   "source": [
    "import matplotlib.pyplot as plt\n",
    "\n",
    "yearly_quakes.plot(kind='bar', figsize=(12, 6), title=\"Earthquakes per Year\")\n",
    "plt.xlabel(\"Year\")\n",
    "plt.ylabel(\"Number of Earthquakes\")\n",
    "plt.tight_layout()\n",
    "plt.show()\n"
   ]
  },
  {
   "cell_type": "code",
   "execution_count": 28,
   "id": "31a8cce7-e27b-4fc3-90e8-78529fdb45ca",
   "metadata": {},
   "outputs": [
    {
     "name": "stdout",
     "output_type": "stream",
     "text": [
      "Depth Range\n",
      "Shallow (0-70km)           13\n",
      "Intermediate (70-300km)     1\n",
      "Deep (300-700km)            0\n",
      "Name: count, dtype: int64\n"
     ]
    }
   ],
   "source": [
    "bins = [0, 70, 300, 700]  # Depth levels\n",
    "labels = ['Shallow (0-70km)', 'Intermediate (70-300km)', 'Deep (300-700km)']\n",
    "\n",
    "df['Depth Range'] = pd.cut(df['Depth'], bins=bins, labels=labels)\n",
    "\n",
    "depth_group = df['Depth Range'].value_counts()\n",
    "print(depth_group)\n"
   ]
  },
  {
   "cell_type": "code",
   "execution_count": 29,
   "id": "28f0cdf6-134a-4b73-b376-f2404759c084",
   "metadata": {},
   "outputs": [
    {
     "data": {
      "image/png": "[encoded data removed]",
      "text/plain": [
       "<Figure size 640x480 with 1 Axes>"
      ]
     },
     "metadata": {},
     "output_type": "display_data"
    }
   ],
   "source": [
    "depth_group.plot(kind='bar', color='skyblue', title=\"Earthquakes by Depth Range\")\n",
    "plt.xlabel(\"Depth Range\")\n",
    "plt.ylabel(\"Number of Earthquakes\")\n",
    "plt.tight_layout()\n",
    "plt.show()\n"
   ]
  },
  {
   "cell_type": "code",
   "execution_count": 30,
   "id": "55c2da1d-43ef-483e-a82e-86b0526dadf4",
   "metadata": {},
   "outputs": [
    {
     "data": {
      "image/png": "[encoded data removed]",
      "text/plain": [
       "<Figure size 1000x600 with 1 Axes>"
      ]
     },
     "metadata": {},
     "output_type": "display_data"
    }
   ],
   "source": [
    "plt.figure(figsize=(10,6))\n",
    "plt.scatter(df['Magnitude'], df['Depth'], alpha=0.5, c='red')\n",
    "plt.title('Magnitude vs Depth of Earthquakes')\n",
    "plt.xlabel('Magnitude')\n",
    "plt.ylabel('Depth (km)')\n",
    "plt.grid(True)\n",
    "plt.tight_layout()\n",
    "plt.show()\n"
   ]
  },
  {
   "cell_type": "code",
   "execution_count": 31,
   "id": "f884fb26-7ad5-4d1c-bb32-5b59898b519c",
   "metadata": {},
   "outputs": [],
   "source": [
    "df.to_csv(\"cleaned_earthquake_data.csv\", index=False)\n"
   ]
  },
  {
   "cell_type": "code",
   "execution_count": 32,
   "id": "67a3d83d-f88d-422d-9426-afc2e392e16e",
   "metadata": {},
   "outputs": [
    {
     "name": "stdout",
     "output_type": "stream",
     "text": [
      "Index(['Date', 'Time', 'Latitude', 'Longitude', 'Type', 'Depth', 'Depth Error',\n",
      "       'Depth Seismic Stations', 'Magnitude', 'Magnitude Type',\n",
      "       'Magnitude Error', 'Magnitude Seismic Stations', 'Azimuthal Gap',\n",
      "       'Horizontal Distance', 'Horizontal Error', 'Root Mean Square', 'ID',\n",
      "       'Source', 'Location Source', 'Magnitude Source', 'Status', 'Year',\n",
      "       'Depth Range'],\n",
      "      dtype='object')\n"
     ]
    }
   ],
   "source": [
    "print(df.columns)\n"
   ]
  },
  {
   "cell_type": "code",
   "execution_count": 2,
   "id": "a4739b88-1a00-452d-ba13-fc83cb4f1c18",
   "metadata": {},
   "outputs": [
    {
     "name": "stdout",
     "output_type": "stream",
     "text": [
      "Collecting numpy==1.26.4\n",
      "  Downloading numpy-1.26.4-cp312-cp312-win_amd64.whl.metadata (61 kB)\n",
      "Downloading numpy-1.26.4-cp312-cp312-win_amd64.whl (15.5 MB)\n",
      "   ---------------------------------------- 0.0/15.5 MB ? eta -:--:--\n",
      "   -- ------------------------------------- 1.0/15.5 MB 5.6 MB/s eta 0:00:03\n",
      "   ---- ----------------------------------- 1.8/15.5 MB 4.4 MB/s eta 0:00:04\n",
      "   ------ --------------------------------- 2.4/15.5 MB 4.3 MB/s eta 0:00:04\n",
      "   ------- -------------------------------- 2.9/15.5 MB 3.4 MB/s eta 0:00:04\n",
      "   -------- ------------------------------- 3.4/15.5 MB 3.5 MB/s eta 0:00:04\n",
      "   ---------- ----------------------------- 4.2/15.5 MB 3.4 MB/s eta 0:00:04\n",
      "   ------------ --------------------------- 5.0/15.5 MB 3.4 MB/s eta 0:00:04\n",
      "   -------------- ------------------------- 5.5/15.5 MB 3.4 MB/s eta 0:00:03\n",
      "   ---------------- ----------------------- 6.3/15.5 MB 3.4 MB/s eta 0:00:03\n",
      "   ------------------ --------------------- 7.1/15.5 MB 3.5 MB/s eta 0:00:03\n",
      "   -------------------- ------------------- 8.1/15.5 MB 3.5 MB/s eta 0:00:03\n",
      "   ---------------------- ----------------- 8.9/15.5 MB 3.6 MB/s eta 0:00:02\n",
      "   ------------------------- -------------- 9.7/15.5 MB 3.6 MB/s eta 0:00:02\n",
      "   --------------------------- ------------ 10.5/15.5 MB 3.6 MB/s eta 0:00:02\n",
      "   ----------------------------- ---------- 11.3/15.5 MB 3.6 MB/s eta 0:00:02\n",
      "   ------------------------------- -------- 12.1/15.5 MB 3.6 MB/s eta 0:00:01\n",
      "   --------------------------------- ------ 13.1/15.5 MB 3.7 MB/s eta 0:00:01\n",
      "   ----------------------------------- ---- 13.9/15.5 MB 3.7 MB/s eta 0:00:01\n",
      "   -------------------------------------- - 14.9/15.5 MB 3.8 MB/s eta 0:00:01\n",
      "   ---------------------------------------  15.5/15.5 MB 3.7 MB/s eta 0:00:01\n",
      "   ---------------------------------------- 15.5/15.5 MB 3.6 MB/s eta 0:00:00\n",
      "Installing collected packages: numpy\n",
      "  Attempting uninstall: numpy\n",
      "    Found existing installation: numpy 2.1.3\n",
      "    Uninstalling numpy-2.1.3:\n",
      "      Successfully uninstalled numpy-2.1.3\n",
      "Successfully installed numpy-1.26.4\n",
      "Note: you may need to restart the kernel to use updated packages.\n"
     ]
    },
    {
     "name": "stderr",
     "output_type": "stream",
     "text": [
      "  WARNING: Failed to remove contents in a temporary directory 'C:\\Users\\kumud\\AppData\\Roaming\\Python\\Python312\\site-packages\\~-mpy.libs'.\n",
      "  You can safely remove it manually.\n",
      "  WARNING: Failed to remove contents in a temporary directory 'C:\\Users\\kumud\\AppData\\Roaming\\Python\\Python312\\site-packages\\~-mpy'.\n",
      "  You can safely remove it manually.\n",
      "ERROR: pip's dependency resolver does not currently take into account all the packages that are installed. This behaviour is the source of the following dependency conflicts.\n",
      "streamlit 1.37.1 requires packaging<25,>=20, but you have packaging 25.0 which is incompatible.\n",
      "streamlit 1.37.1 requires pillow<11,>=7.1.0, but you have pillow 11.2.1 which is incompatible.\n",
      "streamlit 1.37.1 requires rich<14,>=10.14.0, but you have rich 14.0.0 which is incompatible.\n"
     ]
    }
   ],
   "source": [
    "pip install numpy==1.26.4\n"
   ]
  },
  {
   "cell_type": "code",
   "execution_count": null,
   "id": "a0c43ebc-f47b-4b81-9ec4-7b1a9c5ff5db",
   "metadata": {},
   "outputs": [],
   "source": [
    "!pip install mysql-connector-python\n"
   ]
  },
  {
   "cell_type": "code",
   "execution_count": 3,
   "id": "2edbcfd3-bb79-43f0-a24b-997fa777b7db",
   "metadata": {},
   "outputs": [
    {
     "name": "stdout",
     "output_type": "stream",
     "text": [
      "Collecting mysql-connector-python\n",
      "  Using cached mysql_connector_python-9.3.0-cp312-cp312-win_amd64.whl.metadata (7.7 kB)\n",
      "Using cached mysql_connector_python-9.3.0-cp312-cp312-win_amd64.whl (16.4 MB)\n",
      "Installing collected packages: mysql-connector-python\n",
      "Successfully installed mysql-connector-python-9.3.0\n",
      "Note: you may need to restart the kernel to use updated packages.\n"
     ]
    }
   ],
   "source": [
    "%pip install mysql-connector-python\n"
   ]
  },
  {
   "cell_type": "code",
   "execution_count": 1,
   "id": "a7b1b11a-0401-4ff1-a363-00fb0292fa43",
   "metadata": {},
   "outputs": [
    {
     "name": "stdout",
     "output_type": "stream",
     "text": [
      "✅ All data inserted into MySQL successfully.\n"
     ]
    }
   ],
   "source": [
    "import pandas as pd\n",
    "import mysql.connector\n",
    "\n",
    "# Load cleaned DataFrame\n",
    "df = pd.read_csv(\"cleaned_earthquake_data.csv\")\n",
    "\n",
    "# Connect to MySQL\n",
    "conn = mysql.connector.connect(\n",
    "    host=\"localhost\",       \n",
    "    user=\"root\",             \n",
    "    password=\"binue111\", \n",
    "    database=\"earthquake_db\"\n",
    ")\n",
    "\n",
    "cursor = conn.cursor()\n",
    "\n",
    "# Insert data into the table\n",
    "for index, row in df.iterrows():\n",
    "    try:\n",
    "        cursor.execute(\"\"\"\n",
    "            INSERT INTO earthquakes (Date, Time, Latitude, Longitude, Type, Depth, Magnitude, Magnitude_Type, Year, Depth_Range)\n",
    "            VALUES (%s, %s, %s, %s, %s, %s, %s, %s, %s, %s)\n",
    "        \"\"\", (\n",
    "            row['Date'], row['Time'], row['Latitude'], row['Longitude'], row['Type'], row['Depth'],\n",
    "            row['Magnitude'], row['Magnitude Type'], row['Year'], row['Depth Range']\n",
    "        ))\n",
    "    except Exception as e:\n",
    "        print(f\"Error at row {index}: {e}\")\n",
    "\n",
    "# Commit and close connection\n",
    "conn.commit()\n",
    "conn.close()\n",
    "\n",
    "print(\"✅ All data inserted into MySQL successfully.\")\n"
   ]
  },
  {
   "cell_type": "code",
   "execution_count": null,
   "id": "7d87e2d0-d505-4faa-bdb2-55090749c169",
   "metadata": {},
   "outputs": [],
   "source": []
  }
 ],
 "metadata": {
  "kernelspec": {
   "display_name": "Python 3 (ipykernel)",
   "language": "python",
   "name": "python3"
  },
  "language_info": {
   "codemirror_mode": {
    "name": "ipython",
    "version": 3
   },
   "file_extension": ".py",
   "mimetype": "text/x-python",
   "name": "python",
   "nbconvert_exporter": "python",
   "pygments_lexer": "ipython3",
   "version": "3.12.7"
  }
 },
 "nbformat": 4,
 "nbformat_minor": 5
}
